{
 "cells": [
  {
   "cell_type": "markdown",
   "metadata": {},
   "source": [
    "# Exercice température\n",
    "\n",
    "Nous avons relevé des températures au mois de Janvier. Répondez aux questions suivantes :\n",
    "\n",
    "1. Donnez toutes les températures qui sont supérieures à 0.\n",
    "\n",
    "2. Comparez les températures supérieures et inférieures à 0.\n",
    "\n",
    "3. Donnez la moyenne des températures positives sur le mois.\n",
    "\n",
    "4. Créez un tableau days pour les jours du mois et donnez les jours pour lesquels la température était supérieure à 0.\n",
    "\n",
    "5. Donnez toutes les températures supérieures à 0 à partir du dixième jour du mois.\n",
    "\n",
    "6. Remplacez maintenant les températures négatives par la  moyenne des températures positives.\n",
    "\n",
    "```python\n",
    "\n",
    "january = np.array([-2,  5, -5,  6, -2,  0,  6,  2,  8,  0,  6, -1,  3,  3,  7,  0, -5,\n",
    "        7,  4,  7,  8, -1,  5, -2,  3, -3, -2,  7,  8,  4,  2])\n",
    "```"
   ]
  }
 ],
 "metadata": {
  "kernelspec": {
   "display_name": "Python 3",
   "language": "python",
   "name": "python3"
  },
  "language_info": {
   "codemirror_mode": {
    "name": "ipython",
    "version": 3
   },
   "file_extension": ".py",
   "mimetype": "text/x-python",
   "name": "python",
   "nbconvert_exporter": "python",
   "pygments_lexer": "ipython3",
   "version": "3.5.2"
  }
 },
 "nbformat": 4,
 "nbformat_minor": 2
}
