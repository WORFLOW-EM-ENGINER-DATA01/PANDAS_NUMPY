{
 "cells": [
  {
   "cell_type": "markdown",
   "metadata": {},
   "source": [
    "## Exercice éliminer les doublons\n",
    "\n",
    "Dans le tableau suivant éliminer tous les doublons de lettres, voyez le tableau sanitize que nous aimerions avoir une fois votre script exécuté ci-dessous :\n",
    "\n",
    "```python\n",
    "a = np.array([\n",
    "    [\"aaabbfffhjik\", \"hhhkkkiooo\", \"hhjuuk\"],\n",
    "    [\"rrrtttyyuuii\", \"rroooiiiuuu\", \"jjjhhhaa\"],\n",
    "    [\"aaabbgghhh\", \"iiikkkooomml\", \"hhhiijjjuu\"],\n",
    "    [\"hhhyyytttuu\", \"xxxnnnooii\", \"kkkjjjuuppp\"],\n",
    "    [\"qqqfffgghhh\", \"qqqkkklll\", \"ooohhhjjj\"],\n",
    "])\n",
    "\n",
    "sanitize = np.array([\n",
    "       ['bfhajik', 'hiko', 'jhuk'],\n",
    "       ['urity', 'urio', 'jha'],\n",
    "       ['hgab', 'likmo', 'jhui'],\n",
    "       ['hyut', 'xino', 'jupk'],\n",
    "       ['fqhg', 'lqk', 'jho']\n",
    "])\n",
    "```\n",
    "\n",
    "Indications : vous pouvez utiliser les set qui permettent d'obtenir un ensemble de valeurs uniques.\n",
    "\n",
    "```python\n",
    "\n",
    "print( set(\"aaabbfffhjik\") )\n",
    "\n",
    "```"
   ]
  }
 ],
 "metadata": {
  "kernelspec": {
   "display_name": "Python 3",
   "language": "python",
   "name": "python3"
  },
  "language_info": {
   "codemirror_mode": {
    "name": "ipython",
    "version": 3
   },
   "file_extension": ".py",
   "mimetype": "text/x-python",
   "name": "python",
   "nbconvert_exporter": "python",
   "pygments_lexer": "ipython3",
   "version": "3.5.2"
  }
 },
 "nbformat": 4,
 "nbformat_minor": 2
}
