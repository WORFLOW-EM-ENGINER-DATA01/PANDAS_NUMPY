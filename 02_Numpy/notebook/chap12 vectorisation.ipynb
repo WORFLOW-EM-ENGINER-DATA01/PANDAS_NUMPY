{
 "cells": [
  {
   "cell_type": "markdown",
   "metadata": {},
   "source": [
    "# Vectorisation\n",
    "\n",
    "## 12. Vectorisation\n",
    "\n",
    "Pour effectuer des opérations sur un polynôme par exemple vous devez utiliser la vectorisation Numpy qui est plus rapide.\n",
    "\n",
    "```python\n",
    "\n",
    "import numpy as np\n",
    "\n",
    "a = np.arange(100)\n",
    "\n",
    "# compréhension de liste\n",
    "%timeit [x**2 + 2*x + 1 for x in a ]\n",
    "\n",
    "# Vectorisation\n",
    "%timeit a**2 + 2*a + 1\n",
    "\n",
    "```\n",
    "\n",
    "Notez que la vectorisation marche avec tous les opérateurs arithmétiques classiques que vous connaissez.\n",
    "\n",
    "Numpy travaille avec des tableaux dont les données sont stockées dans des zones contigues de mémoire. De plus tous les éléments stockés ont la même dimension.\n"
   ]
  }
 ],
 "metadata": {
  "kernelspec": {
   "display_name": "Python 3",
   "language": "python",
   "name": "python3"
  },
  "language_info": {
   "codemirror_mode": {
    "name": "ipython",
    "version": 3
   },
   "file_extension": ".py",
   "mimetype": "text/x-python",
   "name": "python",
   "nbconvert_exporter": "python",
   "pygments_lexer": "ipython3",
   "version": "3.5.2"
  }
 },
 "nbformat": 4,
 "nbformat_minor": 2
}
