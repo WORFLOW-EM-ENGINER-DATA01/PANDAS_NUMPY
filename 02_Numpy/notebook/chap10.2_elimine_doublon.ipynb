{
 "cells": [
  {
   "cell_type": "markdown",
   "metadata": {},
   "source": [
    "# Correction Exercice éliminer les doublons\n",
    "\n",
    "on utilise set en Python pour créer une nouvelle structure de données. Un set est un ensemble de valeurs uniques.\n",
    "\n",
    "Pour définir un set vous devez utiliser la syntaxe suivante (rappel) :\n",
    "\n",
    "```python\n",
    "\n",
    "a = set()\n",
    "\n",
    "```\n",
    "\n",
    "Si vous appliquer la fonction Python **set** sur une chaîne de caractères qui possède des doublons alors le set supprimera les doublons :\n",
    "\n",
    "```python\n",
    "\n",
    "print(set(\"aabbcc\"))\n",
    "\n",
    "# {'a', 'b', 'c'}\n",
    "\n",
    "```\n"
   ]
  },
  {
   "cell_type": "code",
   "execution_count": 1,
   "metadata": {},
   "outputs": [
    {
     "name": "stdout",
     "output_type": "stream",
     "text": [
      "{'a', 'b', 'c'}\n"
     ]
    }
   ],
   "source": [
    "print(set(\"aabbcc\"))"
   ]
  },
  {
   "cell_type": "code",
   "execution_count": null,
   "metadata": {},
   "outputs": [],
   "source": [
    "import numpy as np \n",
    "\n",
    "a = np.array([\n",
    "    [\"aaabbfffhjik\", \"hhhkkkiooo\", \"hhjuuk\"],\n",
    "    [\"rrrtttyyuuii\", \"rroooiiiuuu\", \"jjjhhhaa\"],\n",
    "    [\"aaabbgghhh\", \"iiikkkooomml\", \"hhhiijjjuu\"],\n",
    "    [\"hhhyyytttuu\", \"xxxnnnooii\", \"kkkjjjuuppp\"],\n",
    "    [\"qqqfffgghhh\", \"qqqkkklll\", \"ooohhhjjj\"],\n",
    "])\n",
    "\n",
    "l, c = a.shape\n",
    "\n",
    "sanitize = np.empty((l, c), dtype='<U12')\n",
    "\n",
    "for i in range(l):\n",
    "    for j in range(c):\n",
    "        sanitize[i, j] = \"\".join( set(a[i, j]) )\n",
    "\n",
    "print(sanitize)"
   ]
  }
 ],
 "metadata": {
  "kernelspec": {
   "display_name": "Python 3",
   "language": "python",
   "name": "python3"
  },
  "language_info": {
   "codemirror_mode": {
    "name": "ipython",
    "version": 3
   },
   "file_extension": ".py",
   "mimetype": "text/x-python",
   "name": "python",
   "nbconvert_exporter": "python",
   "pygments_lexer": "ipython3",
   "version": "3.5.2"
  }
 },
 "nbformat": 4,
 "nbformat_minor": 2
}
