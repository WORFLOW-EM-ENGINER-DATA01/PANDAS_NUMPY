{
 "cells": [
  {
   "cell_type": "code",
   "execution_count": 4,
   "metadata": {},
   "outputs": [
    {
     "name": "stdout",
     "output_type": "stream",
     "text": [
      "[5 5 1 6 5]\n",
      "[[10 10  2 12 10]\n",
      " [ 7  7  8  9  6]\n",
      " [ 1  7  2  4  5]\n",
      " [ 3  4  7  0  8]\n",
      " [ 1  8  2  0  2]]\n"
     ]
    }
   ],
   "source": [
    "import numpy as np\n",
    "\n",
    "\n",
    "y1 = np.array([[5, 5, 1, 6, 5],\n",
    "       [7, 7, 8, 9, 6],\n",
    "       [1, 7, 2, 4, 5],\n",
    "       [3, 4, 7, 0, 8],\n",
    "       [1, 8, 2, 0, 2]])\n",
    "\n",
    "print( y1[0] )\n",
    "\n",
    "y1[0] = y1[0] * 2\n",
    "\n",
    "print(y1)"
   ]
  },
  {
   "cell_type": "code",
   "execution_count": null,
   "metadata": {},
   "outputs": [],
   "source": [
    "\n",
    "y2 = np.array([[[89, 26, 78, 55, 23],\n",
    "        [32, 92, 86, 55, 27],\n",
    "        [87, 46, 63, 43, 77],\n",
    "        [27, 18, 15, 20, 65],\n",
    "        [52, 75, 82,  9, 38]],\n",
    "\n",
    "       [[78, 20, 86, 16, 31],\n",
    "        [46,  3, 59,  6, 50],\n",
    "        [76, 73, 41, 66, 42],\n",
    "        [70, 80, 62, 58, 41],\n",
    "        [41, 65, 49,  0, 79]],\n",
    "\n",
    "       [[13,  9, 58, 35, 32],\n",
    "        [80, 86, 30, 73, 18],\n",
    "        [52, 73, 74,  8, 40],\n",
    "        [80, 27, 26, 94,  8],\n",
    "        [30, 62,  3, 35, 75]],\n",
    "\n",
    "       [[69, 54, 24, 28, 44],\n",
    "        [29, 85, 56,  7, 69],\n",
    "        [13,  1, 62, 10, 66],\n",
    "        [ 6,  5, 31, 78, 92],\n",
    "        [11, 41, 38,  4, 67]],\n",
    "\n",
    "       [[30, 91, 12, 10, 91],\n",
    "        [65, 95, 36, 54, 35],\n",
    "        [49, 96, 21,  5, 87],\n",
    "        [68, 82, 90, 36, 56],\n",
    "        [41, 18, 75, 39, 99]]])"
   ]
  },
  {
   "cell_type": "code",
   "execution_count": 1,
   "metadata": {},
   "outputs": [
    {
     "name": "stdout",
     "output_type": "stream",
     "text": [
      "Vrai\n",
      "Faux\n",
      "Faux\n",
      "Faux\n",
      "Vrai\n"
     ]
    }
   ],
   "source": [
    "if 100:\n",
    "    print(\"Vrai\")\n",
    "    \n",
    "if None:\n",
    "    print('Vrai')\n",
    "else:\n",
    "    print(\"Faux\")\n",
    "\n",
    "if '' :\n",
    "    print(\"vrai ?\")\n",
    "else:\n",
    "    print(\"Faux\")\n",
    "    \n",
    "if []:\n",
    "    print(\"Vrai\")\n",
    "else:\n",
    "    print(\"Faux\")\n",
    "    \n",
    "if [1, 2]:\n",
    "    print(\"Vrai\")\n",
    "else:\n",
    "    print(\"Faux\")\n",
    "\n",
    "    "
   ]
  },
  {
   "cell_type": "code",
   "execution_count": 5,
   "metadata": {},
   "outputs": [
    {
     "name": "stdout",
     "output_type": "stream",
     "text": [
      "[1, 2, nan, 5, 7, 10, nan]\n"
     ]
    },
    {
     "ename": "TypeError",
     "evalue": "only integer scalar arrays can be converted to a scalar index",
     "output_type": "error",
     "traceback": [
      "\u001b[0;31m---------------------------------------------------------------------------\u001b[0m",
      "\u001b[0;31mTypeError\u001b[0m                                 Traceback (most recent call last)",
      "\u001b[0;32m<ipython-input-5-1989711e3c32>\u001b[0m in \u001b[0;36m<module>\u001b[0;34m()\u001b[0m\n\u001b[1;32m      5\u001b[0m \u001b[0mprint\u001b[0m\u001b[0;34m(\u001b[0m\u001b[0ma\u001b[0m\u001b[0;34m)\u001b[0m\u001b[0;34m\u001b[0m\u001b[0m\n\u001b[1;32m      6\u001b[0m \u001b[0;34m\u001b[0m\u001b[0m\n\u001b[0;32m----> 7\u001b[0;31m \u001b[0ma\u001b[0m\u001b[0;34m[\u001b[0m \u001b[0mnp\u001b[0m\u001b[0;34m.\u001b[0m\u001b[0misnan\u001b[0m\u001b[0;34m(\u001b[0m\u001b[0ma\u001b[0m\u001b[0;34m)\u001b[0m \u001b[0;34m]\u001b[0m\u001b[0;34m\u001b[0m\u001b[0m\n\u001b[0m",
      "\u001b[0;31mTypeError\u001b[0m: only integer scalar arrays can be converted to a scalar index"
     ]
    }
   ],
   "source": [
    "import numpy as np\n",
    "\n",
    "a = [1, 2, np.nan, 5, 7, 10, np.nan ]\n",
    "\n",
    "print(a)\n",
    "\n",
    "a[ np.isnan(a) ]"
   ]
  },
  {
   "cell_type": "code",
   "execution_count": null,
   "metadata": {},
   "outputs": [],
   "source": []
  }
 ],
 "metadata": {
  "kernelspec": {
   "display_name": "Python 3",
   "language": "python",
   "name": "python3"
  },
  "language_info": {
   "codemirror_mode": {
    "name": "ipython",
    "version": 3
   },
   "file_extension": ".py",
   "mimetype": "text/x-python",
   "name": "python",
   "nbconvert_exporter": "python",
   "pygments_lexer": "ipython3",
   "version": "3.5.2"
  }
 },
 "nbformat": 4,
 "nbformat_minor": 2
}
