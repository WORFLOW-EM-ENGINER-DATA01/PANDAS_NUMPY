{
 "cells": [
  {
   "cell_type": "markdown",
   "metadata": {},
   "source": [
    "# Exercices supplémentaires\n",
    "\n",
    "## Exercice minimum\n",
    "\n",
    "Soit le tableau a suivant on cherche les valeurs minimales par ligne.\n",
    "\n",
    "Nous aimerions à l'aide d'un script Python trouver tous les indices de tableau par ligne des minimaux et les enregistrer dans une liste de tuples comme dans l'exemple ci-dessous. Si il y a plusieurs minimaux sur une ligne vous enregistrerez son premier indice :\n",
    "\n",
    "```python\n",
    "\n",
    "a = np.array([\n",
    "    [13, 22, 28, 66, 40],\n",
    "    [16, 59, 37, 33, 28],\n",
    "    [34, 98, 54, 48, 96],\n",
    "    [13, 84, 93, 79, 76],\n",
    "    [63, 50, 12, 69, 12]\n",
    "])\n",
    "\n",
    "# Liste des minimaux et leur position unique sur chaque ligne\n",
    "minTabLine = [(0, 13), (0, 16), (0, 34), (0, 13), (2, 12)]\n",
    "```\n",
    "\n"
   ]
  },
  {
   "cell_type": "markdown",
   "metadata": {},
   "source": [
    "Correction\n",
    "On crée un array vide avec np.empty, dedans on placera des tuples que l'on type pour Numpy, le type est défini dans la variable dt. La fonction np.dtype permet de créer un objet définissant le type du tuple.\n",
    "\n",
    "Le mot réservé **break** dans la deuxième boucle permet de sortir de celle-ci si on a trouvé le min sur la ligne. Cela évite de devoir boucler sur toutes les valeurs si on a trouvé avant la fin de ligne."
   ]
  },
  {
   "cell_type": "code",
   "execution_count": 24,
   "metadata": {},
   "outputs": [
    {
     "name": "stdout",
     "output_type": "stream",
     "text": [
      "[(13, 0) (16, 0) (34, 0) (13, 0) (12, 2)]\n"
     ]
    }
   ],
   "source": [
    "import numpy as np\n",
    "\n",
    "a = np.array([\n",
    "    [13, 22, 28, 66, 40],\n",
    "    [16, 59, 37, 33, 28],\n",
    "    [34, 98, 54, 48, 96],\n",
    "    [13, 84, 93, 79, 76],\n",
    "    [63, 50, 12, 69, 12]\n",
    "])\n",
    "\n",
    "# On récupère dynamiquement les dimensions\n",
    "l, c = a.shape\n",
    "\n",
    "dt = np.dtype([\n",
    "    ('min', np.dtype('int8')), ('pos', np.dtype('int8') ) \n",
    "])\n",
    "\n",
    "dataset = np.empty( l , dtype = dt)\n",
    "\n",
    "for i in range(l):\n",
    "    # retourne le min de la ligne\n",
    "    m = a[i].min()\n",
    "    for j in range(c):\n",
    "        if a[i, j] == m:\n",
    "            dataset[i] = (m, j)\n",
    "            break\n",
    "\n",
    "print(dataset)"
   ]
  },
  {
   "cell_type": "markdown",
   "metadata": {},
   "source": [
    "Une autre approche pour répondre à cette question est d'utiliser np.where. En effet celui-ci peut renvoyer la/les position(s) d'une valeur dans le tableau."
   ]
  },
  {
   "cell_type": "code",
   "execution_count": 25,
   "metadata": {
    "scrolled": true
   },
   "outputs": [
    {
     "name": "stdout",
     "output_type": "stream",
     "text": [
      "[0]\n",
      "[0]\n",
      "[0]\n",
      "[0]\n",
      "[2 4]\n",
      "[(13, 0) (16, 0) (34, 0) (13, 0) (12, 2)]\n"
     ]
    }
   ],
   "source": [
    "# On réinitialise dataset, c'est-à-dire on re-crée un tableau vide\n",
    "dataset = np.empty( l , dtype = dt)\n",
    "\n",
    "for i in range(l):\n",
    "    # on récupère le min sur la ligne a[i] n'a qu'une dimension 1d\n",
    "    m = a[i].min()\n",
    "    # Attention np.where ici retournera un tuple\n",
    "    # en fonction de la dimension du tableau\n",
    "    # ici la dimension est 1d donc (array, )\n",
    "    # c'est dans ce sens que l'on écrit pos, = (array, )\n",
    "    pos, = np.where( a[i] == m )\n",
    "    print(pos)\n",
    "    \n",
    "    # si il y a bien une position trouvé\n",
    "    if pos.size > 0:\n",
    "        dataset[i] = (m, pos[0])\n",
    "        \n",
    "    \n",
    "print(dataset)"
   ]
  },
  {
   "cell_type": "markdown",
   "metadata": {},
   "source": [
    "## Récupérer les indices de tous les minimaux\n",
    "\n",
    "Nous allons maintenant récupérer toutes les positions du/des minum(s) par ligne.\n",
    "\n",
    "Nous récupérons maintenant toutes les positions des minimaux par ligne dans un array, le type pour \"pos\" sera np.dtype('object'). Ce dernier type vous permet de récupérer un objet, par exemple un np.array :"
   ]
  },
  {
   "cell_type": "code",
   "execution_count": 30,
   "metadata": {},
   "outputs": [
    {
     "name": "stdout",
     "output_type": "stream",
     "text": [
      "[(13, array([0])) (16, array([0])) (34, array([0])) (13, array([0]))\n",
      " (12, array([2, 4]))]\n"
     ]
    }
   ],
   "source": [
    "dt = np.dtype([\n",
    "    ('min', np.dtype('int8')), ('pos', np.dtype('object') ) \n",
    "])\n",
    "\n",
    "dataset = np.empty( l , dtype = dt)\n",
    "\n",
    "for i in range(l):\n",
    "    # on récupère le min sur la ligne a[i] n'a qu'une dimension 1d\n",
    "    m = a[i].min()\n",
    "    # Attention np.where ici retournera un tuple\n",
    "    # en fonction de la dimension du tableau\n",
    "    # ici la dimension est 1d donc (array, )\n",
    "    # c'est dans ce sens que l'on écrit pos, = (array, )\n",
    "    pos = np.where( a[i] == m )[0]\n",
    "    \n",
    "    # si il y a bien une position trouvé\n",
    "    if pos.size > 0:\n",
    "        dataset[i] = (m, pos)\n",
    "        \n",
    "    \n",
    "print(dataset)"
   ]
  },
  {
   "cell_type": "markdown",
   "metadata": {},
   "source": [
    "## Rappel sur l'instruction break"
   ]
  },
  {
   "cell_type": "code",
   "execution_count": null,
   "metadata": {},
   "outputs": [],
   "source": [
    "print(\"Début du programme\")\n",
    "for i in range(10):\n",
    "    print()\n",
    "    print(\"\\t Dans la boucle numéro :\", i)\n",
    "    print()\n",
    "    if i == 2:\n",
    "        break\n",
    "    print()\n",
    "    print(\"\\t Fin de l'itération numéro :\", i)\n",
    "    print()\n",
    "print(\"Fin du programme on est sorti à l'itération :\", i)"
   ]
  },
  {
   "cell_type": "markdown",
   "metadata": {},
   "source": [
    "Dans le cas de boucles imbriquées :"
   ]
  },
  {
   "cell_type": "code",
   "execution_count": null,
   "metadata": {},
   "outputs": [],
   "source": [
    "print(\"Début du programme\")\n",
    "for i in range(3):\n",
    "    for j in range(10):\n",
    "        print()\n",
    "        print(\"\\t Dans la boucle numéro :\", j)\n",
    "        print()\n",
    "        if j == 2:\n",
    "            break\n",
    "        print()\n",
    "        print(\"\\t Fin de l'itération numéro :\", j)\n",
    "        print()\n",
    "    print(\"on sort de la deuxième boucle à l'itération :\", j)\n",
    "print(\"Fin du programme \")"
   ]
  }
 ],
 "metadata": {
  "kernelspec": {
   "display_name": "Python 3",
   "language": "python",
   "name": "python3"
  },
  "language_info": {
   "codemirror_mode": {
    "name": "ipython",
    "version": 3
   },
   "file_extension": ".py",
   "mimetype": "text/x-python",
   "name": "python",
   "nbconvert_exporter": "python",
   "pygments_lexer": "ipython3",
   "version": "3.5.2"
  }
 },
 "nbformat": 4,
 "nbformat_minor": 2
}
