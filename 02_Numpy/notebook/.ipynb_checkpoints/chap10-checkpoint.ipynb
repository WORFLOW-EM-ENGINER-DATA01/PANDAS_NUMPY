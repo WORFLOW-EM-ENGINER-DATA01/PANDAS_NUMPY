{
 "cells": [
  {
   "cell_type": "markdown",
   "metadata": {},
   "source": [
    "# Lambda & Numpy\n",
    "\n",
    "## 10. Fonction lambda\n",
    "\n",
    "Vous pouvez appliquer une fonction lambda sur chaque valeur d'un tableau.\n",
    "\n",
    "```python\n",
    "a = np.random.randint( 10, size = (10) )\n",
    "# une promo - 20%\n",
    "promo = lambda x : x * 0.8\n",
    "print(promo(a))\n",
    "\"\"\"\n",
    "array([2.4, 6.4, 3.2, 3.2, 2.4, 6.4, 4.8, 0.8, 4. , 0. ])\n",
    "\"\"\"\n",
    "```\n"
   ]
  }
 ],
 "metadata": {
  "kernelspec": {
   "display_name": "Python 3",
   "language": "python",
   "name": "python3"
  },
  "language_info": {
   "codemirror_mode": {
    "name": "ipython",
    "version": 3
   },
   "file_extension": ".py",
   "mimetype": "text/x-python",
   "name": "python",
   "nbconvert_exporter": "python",
   "pygments_lexer": "ipython3",
   "version": "3.5.2"
  }
 },
 "nbformat": 4,
 "nbformat_minor": 2
}
