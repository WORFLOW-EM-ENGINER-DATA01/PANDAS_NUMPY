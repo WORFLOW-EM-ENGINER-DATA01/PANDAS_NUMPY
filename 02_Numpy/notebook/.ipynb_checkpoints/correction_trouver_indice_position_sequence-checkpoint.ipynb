{
 "cells": [
  {
   "cell_type": "markdown",
   "metadata": {},
   "source": [
    "Ci-dessous l'algorithme qui permet de savoir si le mot **w** est dans la liste l. On affiche l'indice de la première position de la séquence dans la liste l si il il existe. Regardez bien l'utilisation du mot réservé Python **break**, il est important dans l'algorithme.\n",
    "\n",
    "```python\n",
    "import numpy as np\n",
    "\n",
    "l = [6, 9, 1, 2, 3, 4, 3, 1, 4, 3, 9, 6, 2, 2]\n",
    "w = [1, 2, 3, 4]\n",
    "\n",
    "# Boucle 1 : On retire la longueur du mot au parcours + 1\n",
    "for j in range( len(l) - len(w) + 1 ):\n",
    "     \n",
    "    # counter ré-initialisé à chaque tour de boucle\n",
    "    # sert à compter les occurences du mot à rechercher\n",
    "    counter = 0\n",
    "    # Boucle 2 : recherche du mot dans la séquence à la position j\n",
    "    for i in range(len(w)):\n",
    "        if w[i] == l[i+j]:\n",
    "            counter += 1\n",
    "        # sinon au sort de la boucle 2 dès que c'est plus égale\n",
    "        else:\n",
    "            break\n",
    "            \n",
    "    # si counter est égale à la longueur de la séquence recherchée\n",
    "    # alors on l'a trouvée, on affiche la position j et on sort de la \n",
    "    # la boucle principale, le script s'arrêt\n",
    "    if counter == len(w) :\n",
    "        print(j)\n",
    "        break\n",
    "```\n"
   ]
  },
  {
   "cell_type": "code",
   "execution_count": 19,
   "metadata": {},
   "outputs": [
    {
     "name": "stdout",
     "output_type": "stream",
     "text": [
      "7\n"
     ]
    }
   ],
   "source": [
    "import numpy as np\n",
    "\n",
    "l = [6, 9, 1, 2, 3, 4, 3, 1, 4, 3, 9, 6, 2, 2]\n",
    "w = [1, 2, 3, 4]\n",
    "\n",
    "for j in range( len(l) - len(w) + 1 ):\n",
    "  \n",
    "    counter = 0\n",
    "    for i in range(len(w)):\n",
    "        if w[i] == l[i+j]:\n",
    "            counter += 1\n",
    "        else:\n",
    "            break\n",
    "            \n",
    "    if counter == len(w) :\n",
    "        print(j)\n",
    "        break\n"
   ]
  },
  {
   "cell_type": "markdown",
   "metadata": {},
   "source": [
    "Fonction search_word, attention le paramètre l est une variable, ici il n'a rien avoir avec la liste l définit plus haut.\n",
    "\n",
    "L'instruction return dans la fonction permet d'arrêter les scripts dans la fonction et de retourner à l'extérieur de la fonction un résultat.\n",
    "\n",
    "Nous avons ajouté break dans la deuxième boucle car sur les 4 valeurs à vérifier dans w dès qu'une n'est pas dans la liste ce n'est pas la peine de tester les autres valeurs. Notez bien que break permet de sortir de la boucle imbriquée uniquement.\n",
    "\n",
    "```python\n",
    "\n",
    "def search_word(l):\n",
    "    for j in range( len(l) - len(w) + 1 ):\n",
    "   \n",
    "        counter = 0\n",
    "        for i in range(len(w)):\n",
    "            if w[i] == l[i+j]:\n",
    "                counter += 1\n",
    "            else:\n",
    "                break\n",
    "        \n",
    "        # l'instruction return a pour effet de retourner la valuer j\n",
    "        # et d'arrêter le script dans la fonction\n",
    "        if counter == len(w) :\n",
    "            return j\n",
    "                \n",
    "    # En dehors de la boucle principale on retourne None si on a rien trouvé\n",
    "    return None\n",
    "\n",
    "```"
   ]
  },
  {
   "cell_type": "code",
   "execution_count": 16,
   "metadata": {},
   "outputs": [
    {
     "data": {
      "text/plain": [
       "2"
      ]
     },
     "execution_count": 16,
     "metadata": {},
     "output_type": "execute_result"
    }
   ],
   "source": [
    "def search_word(l):\n",
    "    for j in range( len(l) - len(w) + 1 ):\n",
    "    \n",
    "        counter = 0\n",
    "        for i in range(len(w)):\n",
    "            if w[i] == l[i+j]:\n",
    "                counter += 1\n",
    "            else:\n",
    "                break\n",
    "\n",
    "        if counter == len(w) :\n",
    "            return j\n",
    "                \n",
    "    return None\n",
    "\n",
    "search_word(l)"
   ]
  },
  {
   "cell_type": "markdown",
   "metadata": {},
   "source": [
    "Nous allons maintenant utiliser la fonction apply_along_axis de Numpy pour exécuter la fonction search_word sur chaque ligne du dataset. Voyez l'exemple suivant :\n",
    "\n",
    "```python\n",
    "# La séquence recherchée\n",
    "w = [1, 2, 3, 4]\n",
    "\n",
    "dataNumbers = np.array([\n",
    "       [ 6,  3,  3,  7,  7,  4,  7,  8,  5,  3,  7,  8,  4,  2],\n",
    "       [ 6,  9,  1,  2,  3,  4,  3,  1,  4,  3,  9,  6,  2,  2],\n",
    "       [-1, -1, -1, -1, -1, -1, -1, -1, -1, -1, -1, -1, -1, -1],\n",
    "       [ 4,  9,  2,  1,  1,  2,  3,  4,  3,  1,  9,  8,  2,  6],\n",
    "       [ 3,  2,  9,  9,  2,  3,  6,  9,  8,  2,  1,  2,  3,  4],\n",
    "       [ 1,  4,  1,  2,  3,  4,  4,  5,  8,  8,  1,  5,  7,  1],\n",
    "       [ 1,  4,  3,  8,  2,  1,  2,  3,  4,  3,  9,  3,  5,  8],\n",
    "       [ 7,  8,  8,  5,  1,  8,  3,  3,  6,  1,  2,  3,  4,  7],\n",
    "       [-1, -1, -1, -1, -1, -1, -1, -1, -1, -1, -1, -1, -1, -1],\n",
    "       [ 7,  7,  1,  6,  1,  2,  3,  4,  9,  2,  4,  4,  5,  9],\n",
    "       [ 5,  6,  6,  2,  3,  7,  1,  9,  9,  5,  1,  2,  3,  4],\n",
    "       [ 7,  7,  2,  3,  3,  7,  9,  4,  3,  9,  1,  1,  1,  1],\n",
    "       [ 6,  1,  2,  3,  4,  5,  5,  3,  1,  3,  1,  2,  3,  4]\n",
    "       ],dtype='int8'\n",
    ")\n",
    "\n",
    "\n",
    "# paramètres de la fonction : nom de la fonction à appliquer sur le dataset, axis = 1 pour les lignes (0 pour les colonnes) et le dataNumbers ici un tableau à 2d\n",
    "np.apply_along_axis(search_word, 1, dataNumbers)\n",
    "```\n"
   ]
  },
  {
   "cell_type": "code",
   "execution_count": 17,
   "metadata": {},
   "outputs": [
    {
     "data": {
      "text/plain": [
       "array([None, 2, None, 4, 10, 2, 5, 9, None, 4, 10, None, 1], dtype=object)"
      ]
     },
     "execution_count": 17,
     "metadata": {},
     "output_type": "execute_result"
    }
   ],
   "source": [
    "# La séquence recherchée\n",
    "w = [1, 2, 3, 4]\n",
    "\n",
    "dataNumbers = np.array([\n",
    "       [ 6,  3,  3,  7,  7,  4,  7,  8,  5,  3,  7,  8,  4,  2],\n",
    "       [ 6,  9,  1,  2,  3,  4,  3,  1,  4,  3,  9,  6,  2,  2],\n",
    "       [-1, -1, -1, -1, -1, -1, -1, -1, -1, -1, -1, -1, -1, -1],\n",
    "       [ 4,  9,  2,  1,  1,  2,  3,  4,  3,  1,  9,  8,  2,  6],\n",
    "       [ 3,  2,  9,  9,  2,  3,  6,  9,  8,  2,  1,  2,  3,  4],\n",
    "       [ 1,  4,  1,  2,  3,  4,  4,  5,  8,  8,  1,  5,  7,  1],\n",
    "       [ 1,  4,  3,  8,  2,  1,  2,  3,  4,  3,  9,  3,  5,  8],\n",
    "       [ 7,  8,  8,  5,  1,  8,  3,  3,  6,  1,  2,  3,  4,  7],\n",
    "       [-1, -1, -1, -1, -1, -1, -1, -1, -1, -1, -1, -1, -1, -1],\n",
    "       [ 7,  7,  1,  6,  1,  2,  3,  4,  9,  2,  4,  4,  5,  9],\n",
    "       [ 5,  6,  6,  2,  3,  7,  1,  9,  9,  5,  1,  2,  3,  4],\n",
    "       [ 7,  7,  2,  3,  3,  7,  9,  4,  3,  9,  1,  1,  1,  1],\n",
    "       [ 6,  1,  2,  3,  4,  5,  5,  3,  1,  3,  1,  2,  3,  4]\n",
    "       ],dtype='int8'\n",
    ")\n",
    "\n",
    "np.apply_along_axis(search_word, 1, dataNumbers)"
   ]
  }
 ],
 "metadata": {
  "kernelspec": {
   "display_name": "Python 3",
   "language": "python",
   "name": "python3"
  },
  "language_info": {
   "codemirror_mode": {
    "name": "ipython",
    "version": 3
   },
   "file_extension": ".py",
   "mimetype": "text/x-python",
   "name": "python",
   "nbconvert_exporter": "python",
   "pygments_lexer": "ipython3",
   "version": "3.5.2"
  }
 },
 "nbformat": 4,
 "nbformat_minor": 2
}
