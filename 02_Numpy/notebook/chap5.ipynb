{
 "cells": [
  {
   "cell_type": "markdown",
   "metadata": {},
   "source": [
    "# Fonctions et tableau\n",
    "\n",
    "## 5. Génération de tableau à l'aide de fonctions Numpy\n",
    "\n",
    "Une autre manière de créer ou générer un tableau Numpy est l'utilisation de fonctions comme dans les exemples ci-dessous :\n",
    "\n",
    "```python\n",
    "\n",
    "# Créer un tableau de 3 zéros.\n",
    "np.zeros(3)\n",
    "\n",
    "# Créer un tableau de dimension 2 lignes et 3 colonnes que de 1.\n",
    "np.ones((2,3))\n",
    "\n",
    "# Remplir un tableau d'une seule valeur, tableau de 2 lignes 3 colonnes\n",
    "# avec la valeur 4.5\n",
    "np.full((2,3), 4.5)\n",
    "\n",
    "```\n",
    "\n",
    "Vous pouvez également générer un tableau de valeur(s) \"vide(s)\", Numpy créera un tableau de valeur(s) aléatoire(s) de manière très optimisée :\n",
    "\n",
    "```python\n",
    "# Tableau 6 lignes et 2 colonnes\n",
    "tmp = np.empty((6, 2) dtype='float32')\n",
    "\n",
    "```\n"
   ]
  }
 ],
 "metadata": {
  "kernelspec": {
   "display_name": "Python 3",
   "language": "python",
   "name": "python3"
  },
  "language_info": {
   "codemirror_mode": {
    "name": "ipython",
    "version": 3
   },
   "file_extension": ".py",
   "mimetype": "text/x-python",
   "name": "python",
   "nbconvert_exporter": "python",
   "pygments_lexer": "ipython3",
   "version": "3.5.2"
  }
 },
 "nbformat": 4,
 "nbformat_minor": 2
}
