{
 "cells": [
  {
   "cell_type": "markdown",
   "metadata": {},
   "source": [
    "```python\n",
    "import numpy as np\n",
    "\n",
    "dataset = np.array([[ 10,29, 18, 90, 100,78, 17] , [ 10,29, 18, 90, 100,78, 17] ] )\n",
    "\n",
    "# mask simple\n",
    "mask = dataset > 70\n",
    "\n",
    "print(mask)\n",
    "\n",
    "print(dataset[mask])\n",
    "# array [ 90 100  78  90 100  78]\n",
    "\n",
    "# mask plus complexe (vu plus loin dans le cours)\n",
    "print(dataset[ (dataset > 70) & (dataset < 1000 ) ])\n",
    "\n",
    "\n",
    "```"
   ]
  },
  {
   "cell_type": "code",
   "execution_count": 12,
   "metadata": {},
   "outputs": [
    {
     "name": "stdout",
     "output_type": "stream",
     "text": [
      "[[False False False  True  True  True False]\n",
      " [False False False  True  True  True False]]\n",
      "[ 90 100  78  90 100  78]\n"
     ]
    }
   ],
   "source": [
    "import numpy as np\n",
    "\n",
    "dataset = np.array([[ 10,29, 18, 90, 100,78, 17] , [ 10,29, 18, 90, 100,78, 17] ] )\n",
    "\n",
    "# mask simple\n",
    "mask = dataset > 70\n",
    "\n",
    "print(mask)\n",
    "\n",
    "print(dataset[mask])\n"
   ]
  }
 ],
 "metadata": {
  "kernelspec": {
   "display_name": "Python 3",
   "language": "python",
   "name": "python3"
  },
  "language_info": {
   "codemirror_mode": {
    "name": "ipython",
    "version": 3
   },
   "file_extension": ".py",
   "mimetype": "text/x-python",
   "name": "python",
   "nbconvert_exporter": "python",
   "pygments_lexer": "ipython3",
   "version": "3.5.2"
  }
 },
 "nbformat": 4,
 "nbformat_minor": 2
}
