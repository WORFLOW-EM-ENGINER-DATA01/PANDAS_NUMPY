{
 "cells": [
  {
   "cell_type": "markdown",
   "metadata": {},
   "source": [
    "# Information sur les tableaux\n",
    "\n",
    "## 6. Information sur un tableau\n",
    "\n",
    "Vous pouvez obtenur des informations sur un tableau Numpy :\n",
    "\n",
    "```python\n",
    "# Création d'un tableau 2 lignes 8 colonnes que de 1\n",
    "t = np.ones((2,8), dtype=int8)\n",
    "\n",
    "# Nombre de dimension(s), ici 2\n",
    "t.ndim\n",
    "\n",
    "# Forme du tableau (2,8)\n",
    "t.shape\n",
    "\n",
    "# taille du tableau 16 valeurs\n",
    "t.size\n",
    "\n",
    "# type du tableau int8\n",
    "t.dtype\n",
    "```\n"
   ]
  }
 ],
 "metadata": {
  "kernelspec": {
   "display_name": "Python 3",
   "language": "python",
   "name": "python3"
  },
  "language_info": {
   "codemirror_mode": {
    "name": "ipython",
    "version": 3
   },
   "file_extension": ".py",
   "mimetype": "text/x-python",
   "name": "python",
   "nbconvert_exporter": "python",
   "pygments_lexer": "ipython3",
   "version": "3.5.2"
  }
 },
 "nbformat": 4,
 "nbformat_minor": 2
}
