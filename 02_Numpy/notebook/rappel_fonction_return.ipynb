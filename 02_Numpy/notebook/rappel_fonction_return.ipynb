{
 "cells": [
  {
   "cell_type": "markdown",
   "metadata": {},
   "source": [
    "# Rappel sur les fonctions et le mot réservé return\n",
    "\n",
    "## Généralités\n",
    "\n",
    "Le mot réservé return en Python s'utilise dans une fonction. Il permet de retourner dans le script courant, c'est-à-dire à l'extérieur de la fonction, un calcul réalisé par la fonction.\n",
    "\n",
    "```python\n",
    "\n",
    "def add1(a, b):\n",
    "    \n",
    "    return a + b\n",
    "\n",
    "\n",
    "print( add1(5, 3) )\n",
    "# Affiche 8\n",
    "\n",
    "```\n",
    "\n",
    "Une fois l'instruction return rencontrée dans la fonction, Python retourne dans le script courant le résultat. \n",
    "\n",
    "Attention si il y a du code après le return celui-ci ne sera pas exécuté.\n",
    "\n",
    "```python\n",
    "\n",
    "\n",
    "def add1(a, b):\n",
    "    \n",
    "    return a + b\n",
    "    \n",
    "    print( \"Ceci ne s'affiche pas ...\" )\n",
    "\n",
    "```\n",
    "\n",
    "Vous pouvez avoir plusieurs return dans la même fonction.\n",
    "\n",
    "```python\n",
    "\n",
    "\n",
    "def calcul(a, b):\n",
    "    \n",
    "    if a < b :\n",
    "        return a + b\n",
    "    \n",
    "    else :\n",
    "        return a - b\n",
    "    \n",
    "```\n",
    "\n",
    "## Intérêt du return dans un script\n",
    "\n",
    "Il permet de **retourner une valeur** dans le script courant. Une fois cette valeur dans le script courant vous pouvez l'utiliser comme n'importe qu'elle autre valeur en Python.\n",
    "\n",
    "Reprenons la fonction add1 ci-dessus :\n",
    "\n",
    "```python\n",
    "def add1(a, b):\n",
    "    \n",
    "    return a + b\n",
    "\n",
    "superAddition = add1(7,2)  + add1(5,5)\n",
    "\n",
    "superAddition = superAddition + 10\n",
    "\n",
    "print(superAddition)\n",
    "# Affichera 29\n",
    "```"
   ]
  },
  {
   "cell_type": "code",
   "execution_count": 1,
   "metadata": {},
   "outputs": [
    {
     "name": "stdout",
     "output_type": "stream",
     "text": [
      "29\n"
     ]
    }
   ],
   "source": [
    "def add1(a, b):\n",
    "    \n",
    "    return a + b\n",
    "\n",
    "superAddition = add1(7,2)  + add1(5,5)\n",
    "\n",
    "superAddition = superAddition + 10\n",
    "\n",
    "print(superAddition)"
   ]
  }
 ],
 "metadata": {
  "kernelspec": {
   "display_name": "Python 3",
   "language": "python",
   "name": "python3"
  },
  "language_info": {
   "codemirror_mode": {
    "name": "ipython",
    "version": 3
   },
   "file_extension": ".py",
   "mimetype": "text/x-python",
   "name": "python",
   "nbconvert_exporter": "python",
   "pygments_lexer": "ipython3",
   "version": "3.5.2"
  }
 },
 "nbformat": 4,
 "nbformat_minor": 2
}
