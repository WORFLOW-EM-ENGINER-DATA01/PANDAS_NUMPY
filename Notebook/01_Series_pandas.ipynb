{
 "cells": [
  {
   "cell_type": "code",
   "execution_count": 42,
   "id": "716ec2ed",
   "metadata": {},
   "outputs": [],
   "source": [
    "import pandas as pd\n",
    "import numpy as np"
   ]
  },
  {
   "cell_type": "code",
   "execution_count": 5,
   "id": "6a48dffa",
   "metadata": {},
   "outputs": [
    {
     "data": {
      "text/plain": [
       "<module 'pandas' from '/Users/antoinelucsko/anaconda3/lib/python3.11/site-packages/pandas/__init__.py'>"
      ]
     },
     "execution_count": 5,
     "metadata": {},
     "output_type": "execute_result"
    }
   ],
   "source": [
    "pd"
   ]
  },
  {
   "cell_type": "code",
   "execution_count": 6,
   "id": "4f4db955",
   "metadata": {},
   "outputs": [],
   "source": [
    "cities =  pd.Series({\n",
    "    'Bordeaux' : 249712  ,\n",
    "    'Paris' : 2190327 ,\n",
    "    'Lille' : 232741\n",
    "})"
   ]
  },
  {
   "cell_type": "code",
   "execution_count": 8,
   "id": "94b2101e",
   "metadata": {},
   "outputs": [
    {
     "data": {
      "text/plain": [
       "Index(['Bordeaux', 'Paris', 'Lille'], dtype='object')"
      ]
     },
     "execution_count": 8,
     "metadata": {},
     "output_type": "execute_result"
    }
   ],
   "source": [
    "cities.index"
   ]
  },
  {
   "cell_type": "code",
   "execution_count": 9,
   "id": "abc75f8a",
   "metadata": {},
   "outputs": [
    {
     "data": {
      "text/plain": [
       "2190327"
      ]
     },
     "execution_count": 9,
     "metadata": {},
     "output_type": "execute_result"
    }
   ],
   "source": [
    "cities['Paris']"
   ]
  },
  {
   "cell_type": "code",
   "execution_count": 13,
   "id": "f82daa31",
   "metadata": {},
   "outputs": [],
   "source": [
    "v = range(1, 12, 2)\n",
    "i = 'abcdef'\n",
    "# print(list(i))\n",
    "s = pd.Series(v, index=list(i))"
   ]
  },
  {
   "cell_type": "code",
   "execution_count": 14,
   "id": "79aa9c8a",
   "metadata": {},
   "outputs": [
    {
     "data": {
      "text/plain": [
       "a     1\n",
       "b     3\n",
       "c     5\n",
       "d     7\n",
       "e     9\n",
       "f    11\n",
       "dtype: int64"
      ]
     },
     "execution_count": 14,
     "metadata": {},
     "output_type": "execute_result"
    }
   ],
   "source": [
    "s "
   ]
  },
  {
   "cell_type": "code",
   "execution_count": 15,
   "id": "a78966e3",
   "metadata": {},
   "outputs": [],
   "source": [
    "cities.index = ['33', '75', '59']"
   ]
  },
  {
   "cell_type": "code",
   "execution_count": 16,
   "id": "39e622f7",
   "metadata": {},
   "outputs": [
    {
     "data": {
      "text/plain": [
       "33     249712\n",
       "75    2190327\n",
       "59     232741\n",
       "dtype: int64"
      ]
     },
     "execution_count": 16,
     "metadata": {},
     "output_type": "execute_result"
    }
   ],
   "source": [
    "cities"
   ]
  },
  {
   "cell_type": "code",
   "execution_count": 18,
   "id": "1c1a3813",
   "metadata": {},
   "outputs": [
    {
     "data": {
      "text/plain": [
       "75    2190327\n",
       "dtype: int64"
      ]
     },
     "execution_count": 18,
     "metadata": {},
     "output_type": "execute_result"
    }
   ],
   "source": [
    "mask = cities > 2_000_000\n",
    "cities[mask]"
   ]
  },
  {
   "cell_type": "code",
   "execution_count": 20,
   "id": "039bee2c",
   "metadata": {},
   "outputs": [],
   "source": [
    "cities = 1.1 * cities\n",
    "# deuxième solution cities.apply(lambda c : c * 1.1 )"
   ]
  },
  {
   "cell_type": "code",
   "execution_count": 21,
   "id": "0b57257f",
   "metadata": {},
   "outputs": [
    {
     "data": {
      "text/plain": [
       "33     274683.2\n",
       "75    2409359.7\n",
       "59     256015.1\n",
       "dtype: float64"
      ]
     },
     "execution_count": 21,
     "metadata": {},
     "output_type": "execute_result"
    }
   ],
   "source": [
    "cities"
   ]
  },
  {
   "cell_type": "code",
   "execution_count": 22,
   "id": "f3956f51",
   "metadata": {},
   "outputs": [],
   "source": [
    "notes = pd.Series([13.4, 20, 10, 15, 14, 16])"
   ]
  },
  {
   "cell_type": "code",
   "execution_count": 23,
   "id": "7ab4c3ba",
   "metadata": {},
   "outputs": [
    {
     "data": {
      "text/plain": [
       "0    13.4\n",
       "1    20.0\n",
       "2    10.0\n",
       "3    15.0\n",
       "4    14.0\n",
       "5    16.0\n",
       "dtype: float64"
      ]
     },
     "execution_count": 23,
     "metadata": {},
     "output_type": "execute_result"
    }
   ],
   "source": [
    "notes"
   ]
  },
  {
   "cell_type": "code",
   "execution_count": 24,
   "id": "d8374ddc",
   "metadata": {},
   "outputs": [
    {
     "data": {
      "text/plain": [
       "1    20.0\n",
       "2    10.0\n",
       "dtype: float64"
      ]
     },
     "execution_count": 24,
     "metadata": {},
     "output_type": "execute_result"
    }
   ],
   "source": [
    "# notes[1:3] avec des index numériques on peut faire du slicing"
   ]
  },
  {
   "cell_type": "code",
   "execution_count": 25,
   "id": "65550eaf",
   "metadata": {},
   "outputs": [
    {
     "data": {
      "text/plain": [
       "Databases    13.4\n",
       "Culture      20.0\n",
       "Git          10.0\n",
       "Stat desc    15.0\n",
       "Stat inf     14.0\n",
       "Python       16.0\n",
       "dtype: float64"
      ]
     },
     "execution_count": 25,
     "metadata": {},
     "output_type": "execute_result"
    }
   ],
   "source": [
    "subjects = [\n",
    "'Databases', 'Culture',\n",
    "'Git', 'Stat desc',\n",
    "'Stat inf', 'Python'\n",
    "]\n",
    "\n",
    "notes.index = subjects\n",
    "\n",
    "notes"
   ]
  },
  {
   "cell_type": "code",
   "execution_count": 30,
   "id": "090c0908",
   "metadata": {},
   "outputs": [
    {
     "data": {
      "text/plain": [
       "14.73"
      ]
     },
     "execution_count": 30,
     "metadata": {},
     "output_type": "execute_result"
    }
   ],
   "source": [
    "notes.mean().round(2)"
   ]
  },
  {
   "cell_type": "code",
   "execution_count": 40,
   "id": "64e28b46",
   "metadata": {},
   "outputs": [
    {
     "name": "stdout",
     "output_type": "stream",
     "text": [
      "14.5\n"
     ]
    },
    {
     "data": {
      "text/plain": [
       "count     6.000000\n",
       "mean     14.733333\n",
       "std       3.290390\n",
       "min      10.000000\n",
       "25%      13.550000\n",
       "50%      14.500000\n",
       "75%      15.750000\n",
       "max      20.000000\n",
       "dtype: float64"
      ]
     },
     "execution_count": 40,
     "metadata": {},
     "output_type": "execute_result"
    }
   ],
   "source": [
    "print( notes.median() )\n",
    "\n",
    "notes.sort_values()\n",
    "notes.describe()"
   ]
  },
  {
   "cell_type": "code",
   "execution_count": 35,
   "id": "dce402f5",
   "metadata": {},
   "outputs": [],
   "source": [
    "s = pd.Series([1, 2, 3, 4, 5, 6])"
   ]
  },
  {
   "cell_type": "code",
   "execution_count": 36,
   "id": "69704139",
   "metadata": {},
   "outputs": [
    {
     "data": {
      "text/plain": [
       "3.5"
      ]
     },
     "execution_count": 36,
     "metadata": {},
     "output_type": "execute_result"
    }
   ],
   "source": [
    "s.median()"
   ]
  },
  {
   "cell_type": "code",
   "execution_count": 64,
   "id": "981b67aa",
   "metadata": {},
   "outputs": [
    {
     "name": "stdout",
     "output_type": "stream",
     "text": [
      "11.0\n"
     ]
    },
    {
     "data": {
      "text/plain": [
       "11.0"
      ]
     },
     "execution_count": 64,
     "metadata": {},
     "output_type": "execute_result"
    }
   ],
   "source": [
    "numbers = np.array([12,6,8,19, 10, np.nan , 14, np.nan])\n",
    "mask = np.isnan(numbers)\n",
    "num = numbers[ mask == False ]\n",
    "\n",
    "m = np.median(num)\n",
    "print(m)\n",
    "numbers[ mask  ] = m\n",
    "\n",
    "np.median( numbers )\n",
    "\n",
    "# print(numbers.mean()) # affiche nan"
   ]
  },
  {
   "cell_type": "code",
   "execution_count": 65,
   "id": "26e35cef",
   "metadata": {},
   "outputs": [],
   "source": [
    "notes = pd.Series([1, 7, 8, 9, 10, 12, 15, 17, 18, 19 ,20])\n",
    "effectifs = pd.Series([2,3, 2, 1, 5, 7, 2, 6, 2, 1, 1])"
   ]
  },
  {
   "cell_type": "markdown",
   "id": "15405985",
   "metadata": {},
   "source": [
    "Quel est le pourcentage d'étudiants de la promo Data01 ayant obtenu une note comprise entre 9 et 13 ?"
   ]
  },
  {
   "cell_type": "code",
   "execution_count": 77,
   "id": "1133532e",
   "metadata": {},
   "outputs": [
    {
     "data": {
      "text/plain": [
       "40.62"
      ]
     },
     "execution_count": 77,
     "metadata": {},
     "output_type": "execute_result"
    }
   ],
   "source": [
    "mask  = (notes >= 9) & (notes <= 13) \n",
    "round( effectifs[mask].sum() / effectifs.sum() * 100, 2 ) "
   ]
  },
  {
   "cell_type": "code",
   "execution_count": null,
   "id": "567be648",
   "metadata": {},
   "outputs": [],
   "source": [
    "# Solution Yanis\n",
    "total_etudiants = effectifs.sum()\n",
    "etudiants_9_13 = effectifs[(notes >= 9) & (notes <= 13)].sum()\n",
    "pourcentage_9_13 = (etudiants_9_13 / total_etudiants) * 100"
   ]
  }
 ],
 "metadata": {
  "kernelspec": {
   "display_name": "Python 3 (ipykernel)",
   "language": "python",
   "name": "python3"
  },
  "language_info": {
   "codemirror_mode": {
    "name": "ipython",
    "version": 3
   },
   "file_extension": ".py",
   "mimetype": "text/x-python",
   "name": "python",
   "nbconvert_exporter": "python",
   "pygments_lexer": "ipython3",
   "version": "3.11.5"
  }
 },
 "nbformat": 4,
 "nbformat_minor": 5
}
