{
 "cells": [
  {
   "cell_type": "code",
   "execution_count": 1,
   "id": "1d5144b8",
   "metadata": {},
   "outputs": [],
   "source": [
    "import pandas as pd\n",
    "import numpy as np"
   ]
  },
  {
   "cell_type": "code",
   "execution_count": 7,
   "id": "03070e38",
   "metadata": {},
   "outputs": [
    {
     "data": {
      "text/html": [
       "<div>\n",
       "<style scoped>\n",
       "    .dataframe tbody tr th:only-of-type {\n",
       "        vertical-align: middle;\n",
       "    }\n",
       "\n",
       "    .dataframe tbody tr th {\n",
       "        vertical-align: top;\n",
       "    }\n",
       "\n",
       "    .dataframe thead th {\n",
       "        text-align: right;\n",
       "    }\n",
       "</style>\n",
       "<table border=\"1\" class=\"dataframe\">\n",
       "  <thead>\n",
       "    <tr style=\"text-align: right;\">\n",
       "      <th></th>\n",
       "      <th>Category</th>\n",
       "      <th>Sales</th>\n",
       "      <th>Customer</th>\n",
       "      <th>Quantity</th>\n",
       "      <th>UnitPrice</th>\n",
       "      <th>Country</th>\n",
       "      <th>Date</th>\n",
       "    </tr>\n",
       "  </thead>\n",
       "  <tbody>\n",
       "    <tr>\n",
       "      <th>0</th>\n",
       "      <td>Electronics</td>\n",
       "      <td>2000</td>\n",
       "      <td>Customer1</td>\n",
       "      <td>5</td>\n",
       "      <td>400.0</td>\n",
       "      <td>USA</td>\n",
       "      <td>2023-01-01</td>\n",
       "    </tr>\n",
       "    <tr>\n",
       "      <th>1</th>\n",
       "      <td>Clothing</td>\n",
       "      <td>1500</td>\n",
       "      <td>Customer2</td>\n",
       "      <td>3</td>\n",
       "      <td>500.0</td>\n",
       "      <td>UK</td>\n",
       "      <td>2023-01-05</td>\n",
       "    </tr>\n",
       "    <tr>\n",
       "      <th>2</th>\n",
       "      <td>Electronics</td>\n",
       "      <td>3000</td>\n",
       "      <td>Customer3</td>\n",
       "      <td>2</td>\n",
       "      <td>1500.0</td>\n",
       "      <td>Germany</td>\n",
       "      <td>2023-01-10</td>\n",
       "    </tr>\n",
       "    <tr>\n",
       "      <th>3</th>\n",
       "      <td>Clothing</td>\n",
       "      <td>1200</td>\n",
       "      <td>Customer1</td>\n",
       "      <td>4</td>\n",
       "      <td>300.0</td>\n",
       "      <td>USA</td>\n",
       "      <td>2023-02-15</td>\n",
       "    </tr>\n",
       "    <tr>\n",
       "      <th>4</th>\n",
       "      <td>Electronics</td>\n",
       "      <td>2500</td>\n",
       "      <td>Customer4</td>\n",
       "      <td>2</td>\n",
       "      <td>1250.0</td>\n",
       "      <td>France</td>\n",
       "      <td>2023-03-20</td>\n",
       "    </tr>\n",
       "  </tbody>\n",
       "</table>\n",
       "</div>"
      ],
      "text/plain": [
       "      Category  Sales   Customer  Quantity  UnitPrice  Country        Date\n",
       "0  Electronics   2000  Customer1         5      400.0      USA  2023-01-01\n",
       "1     Clothing   1500  Customer2         3      500.0       UK  2023-01-05\n",
       "2  Electronics   3000  Customer3         2     1500.0  Germany  2023-01-10\n",
       "3     Clothing   1200  Customer1         4      300.0      USA  2023-02-15\n",
       "4  Electronics   2500  Customer4         2     1250.0   France  2023-03-20"
      ]
     },
     "execution_count": 7,
     "metadata": {},
     "output_type": "execute_result"
    }
   ],
   "source": [
    "# URL du fichier CSV\n",
    "url = \"https://raw.githubusercontent.com/aahWeb/data/main/sales_data.csv\"\n",
    "\n",
    "# Charger les données depuis l'URL\n",
    "sales_data = pd.read_csv(url)\n",
    "\n",
    "# Afficher les premières lignes du DataFrame pour vérification\n",
    "sales_data.head()"
   ]
  },
  {
   "cell_type": "code",
   "execution_count": 9,
   "id": "b0007ab8",
   "metadata": {},
   "outputs": [
    {
     "data": {
      "text/plain": [
       "Country\n",
       "France     1869.230769\n",
       "Germany    3384.615385\n",
       "UK         1485.714286\n",
       "USA        2628.571429\n",
       "Name: Sales, dtype: float64"
      ]
     },
     "execution_count": 9,
     "metadata": {},
     "output_type": "execute_result"
    }
   ],
   "source": [
    "sales_data.groupby('Country')['Sales'].mean()"
   ]
  },
  {
   "cell_type": "code",
   "execution_count": 10,
   "id": "189044fa",
   "metadata": {},
   "outputs": [
    {
     "data": {
      "text/plain": [
       "Country\n",
       "France     13\n",
       "Germany    13\n",
       "UK         14\n",
       "USA        14\n",
       "Name: Sales, dtype: int64"
      ]
     },
     "execution_count": 10,
     "metadata": {},
     "output_type": "execute_result"
    }
   ],
   "source": [
    "# Comptage d'éléments par groupe\n",
    "sales_data.groupby('Country')['Sales'].count()"
   ]
  },
  {
   "cell_type": "code",
   "execution_count": 11,
   "id": "e99edeb8",
   "metadata": {},
   "outputs": [],
   "source": [
    "def calculate_total_sales(x):\n",
    "    return x['Quantity'] * x['UnitPrice']"
   ]
  },
  {
   "cell_type": "code",
   "execution_count": 14,
   "id": "6211dd30",
   "metadata": {},
   "outputs": [],
   "source": [
    "total_quantity_bycustomer = sales_data.groupby('Customer').apply(calculate_total_sales)"
   ]
  },
  {
   "cell_type": "code",
   "execution_count": 19,
   "id": "2e21a7d1",
   "metadata": {},
   "outputs": [
    {
     "data": {
      "text/plain": [
       "Country  Category   \n",
       "France   Clothing       1816.67\n",
       "         Electronics    2500.00\n",
       "Germany  Electronics    3384.62\n",
       "UK       Clothing       1485.71\n",
       "USA      Clothing       1200.00\n",
       "         Electronics    2738.46\n",
       "Name: Sales, dtype: float64"
      ]
     },
     "execution_count": 19,
     "metadata": {},
     "output_type": "execute_result"
    }
   ],
   "source": [
    "# Total des Sales par Country et Catégory \n",
    "sales_data.groupby(['Country', 'Category'])['Sales'].mean().round(2)"
   ]
  },
  {
   "cell_type": "code",
   "execution_count": null,
   "id": "e8369722",
   "metadata": {},
   "outputs": [],
   "source": []
  }
 ],
 "metadata": {
  "kernelspec": {
   "display_name": "Python 3 (ipykernel)",
   "language": "python",
   "name": "python3"
  },
  "language_info": {
   "codemirror_mode": {
    "name": "ipython",
    "version": 3
   },
   "file_extension": ".py",
   "mimetype": "text/x-python",
   "name": "python",
   "nbconvert_exporter": "python",
   "pygments_lexer": "ipython3",
   "version": "3.11.5"
  }
 },
 "nbformat": 4,
 "nbformat_minor": 5
}
